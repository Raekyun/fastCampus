{
 "cells": [
  {
   "cell_type": "markdown",
   "metadata": {},
   "source": [
    "## special method\n",
    "* __로 시작 __로 긑나는 특수 함수\n",
    "* 해당 메쏘드들을 구현하면, 객체에 파이썬 내장 함수나 연산자를 커스텀하여 적용 가능\n",
    "* 오버라이딩 가능한 함수 목록은 아래 링크에서 참조\n",
    "  * https://docs.python.org/3/reference/datamodel.html\n",
    "  * https://docs.python.org/3/reference/datamodel.html#object.__add__"
   ]
  },
  {
   "cell_type": "code",
   "execution_count": 32,
   "metadata": {},
   "outputs": [
    {
     "name": "stdout",
     "output_type": "stream",
     "text": [
      "10 11\n",
      "(str: 10, 11)\n",
      "(str: 20, 10)\n",
      "(str: 0, 12)\n",
      "(str: 30, 33)\n",
      "14\n",
      "a1[0]:  10\n",
      "a1[1]:  11\n",
      "-1\n"
     ]
    },
    {
     "data": {
      "text/plain": [
       "(repr: 10, 11)"
      ]
     },
     "execution_count": 32,
     "metadata": {},
     "output_type": "execute_result"
    }
   ],
   "source": [
    "# x, y 좌표를 나타내주는 Point class로 예제\n",
    "## __str__은 프린트나 str(포인트) 했을 때 출력\n",
    "## __repr__은 그냥 어떤 포인트 인스턴스를 호출했을 때 출력\n",
    "from math import sqrt\n",
    "\n",
    "class Point:\n",
    "    def __init__(self, x, y):\n",
    "        self.x = x\n",
    "        self.y = y\n",
    "    \n",
    "    def __repr__(self):\n",
    "        new_str = f'(repr: {self.x}, {self.y})'\n",
    "        return new_str\n",
    "    \n",
    "    def __str__(self):\n",
    "        new_str = f'(str: {self.x}, {self.y})'\n",
    "        return new_str    \n",
    "    \n",
    "    def __add__(self, p2):\n",
    "        new_x = self.x + p2.x\n",
    "        new_y = self.y + p2.y\n",
    "        return Point(new_x, new_y)\n",
    "    \n",
    "    def __sub__(self, p2):\n",
    "        new_x = self.x - p2.x\n",
    "        new_y = self.y - p2.y\n",
    "        return Point(new_x, new_y)\n",
    "    \n",
    "    def __mul__(self, c):\n",
    "        new_x = self.x * c\n",
    "        new_y = self.y * c\n",
    "        return Point(new_x, new_y)\n",
    "    \n",
    "    def __len__(self):\n",
    "        return int(sqrt(self.x**2 + self.y**2))  ## 그냥 제곱 + 제곱으로 해도 됨\n",
    "    \n",
    "    def __getitem__(self, index):\n",
    "        if index == 0:\n",
    "            return self.x\n",
    "        elif index == 1:\n",
    "            return self.y\n",
    "        else:\n",
    "            return -1\n",
    "        \n",
    "    \n",
    "a1 = Point(10, 11)\n",
    "print(a1.x, a1.y)\n",
    "print(a1)\n",
    "a2 = Point(10, -1)\n",
    "print(a1 + a2)\n",
    "print(a1 - a2)\n",
    "print(a1*3)\n",
    "print(len(a1))\n",
    "print('a1[0]: ', a1[0])\n",
    "print('a1[1]: ', a1[1])\n",
    "print(a1[3])\n",
    "a1"
   ]
  }
 ],
 "metadata": {
  "kernelspec": {
   "display_name": "Python 3",
   "language": "python",
   "name": "python3"
  },
  "language_info": {
   "codemirror_mode": {
    "name": "ipython",
    "version": 3
   },
   "file_extension": ".py",
   "mimetype": "text/x-python",
   "name": "python",
   "nbconvert_exporter": "python",
   "pygments_lexer": "ipython3",
   "version": "3.8.6"
  }
 },
 "nbformat": 4,
 "nbformat_minor": 4
}
