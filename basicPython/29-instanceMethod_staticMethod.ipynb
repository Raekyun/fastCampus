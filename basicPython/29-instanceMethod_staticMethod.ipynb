{
 "cells": [
  {
   "cell_type": "markdown",
   "metadata": {},
   "source": [
    "## Method type\n",
    "* instance method - 객체를 통해 호출\n",
    "  * 메쏘드는 객체 레벨로 호출 되기 때문에, 해당 메쏘드를 호출한 객체에만 영향을 미침\n",
    "  * 아래 Counter class에서와 같이 객체에 해당하는 self에 self.num이라는 변수가 있고 그 변수를 활용하는 함수들이 있음. 요런 놈들이 instance method\n",
    "* class method (static method) - class로 호출\n",
    "  * 클래스 메쏘드의 경우, 클래스 레벨로 호출되기 때문에, 클래스 멤버 변수만 변경 가능\n",
    "  * 아래 Math class에서와 같이 멤버 변수와 관계 없이 외부 변수만 입력받아 처리하는 함수의 경우 static method이며 따로 self를 사용하지 않아도 되고 class 자체의 메쏘드로 호출하여 함수처럼 활용 가능"
   ]
  },
  {
   "cell_type": "code",
   "execution_count": 1,
   "metadata": {},
   "outputs": [
    {
     "name": "stdout",
     "output_type": "stream",
     "text": [
      "현재값은:  0\n",
      "현재값은:  2\n",
      "현재값은:  0\n"
     ]
    }
   ],
   "source": [
    "class Counter:\n",
    "    def __init__(self):\n",
    "        self.num = 0\n",
    "    def increment(self):\n",
    "        self.num += 1\n",
    "    def reset(self):\n",
    "        self.num = 0\n",
    "    def print_current_value(self):\n",
    "        print('현재값은: ', self.num)\n",
    "\n",
    "c1 = Counter()\n",
    "c1.print_current_value()\n",
    "c1.increment()\n",
    "c1.increment()\n",
    "c1.print_current_value()\n",
    "c1.reset()\n",
    "c1.print_current_value()"
   ]
  },
  {
   "cell_type": "code",
   "execution_count": 4,
   "metadata": {},
   "outputs": [
    {
     "data": {
      "text/plain": [
       "200"
      ]
     },
     "execution_count": 4,
     "metadata": {},
     "output_type": "execute_result"
    }
   ],
   "source": [
    "class Math:\n",
    "    @staticmethod\n",
    "    def sum(a, b):\n",
    "        return a+b\n",
    "    @staticmethod\n",
    "    def multiply(a,b):\n",
    "        return a*b\n",
    "\n",
    "Math.sum(10,20)\n",
    "Math.multiply(10,20)\n"
   ]
  }
 ],
 "metadata": {
  "kernelspec": {
   "display_name": "Python 3",
   "language": "python",
   "name": "python3"
  },
  "language_info": {
   "codemirror_mode": {
    "name": "ipython",
    "version": 3
   },
   "file_extension": ".py",
   "mimetype": "text/x-python",
   "name": "python",
   "nbconvert_exporter": "python",
   "pygments_lexer": "ipython3",
   "version": "3.8.6"
  }
 },
 "nbformat": 4,
 "nbformat_minor": 4
}
