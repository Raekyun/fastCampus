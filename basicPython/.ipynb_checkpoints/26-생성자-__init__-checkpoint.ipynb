{
 "cells": [
  {
   "cell_type": "markdown",
   "metadata": {},
   "source": [
    "## 생성자: __init__(self)\n",
    "* 생성자, 클래스 인스턴스가 생성될 때 호출됨\n",
    "* self인자는 항상 첫번째에 오며 자기 자신을 가리킴\n",
    "* 이름이 꼭 self일 필요는 없지만, 관용적으로 self로 사용\n",
    "* 생성자에서는 해당 클래스가 다루는 데이터를 정의\n",
    "  *  이 데이터를 멤버 변수 (member variable) 또는 속성 (attribute)라고 함"
   ]
  },
  {
   "cell_type": "code",
   "execution_count": 1,
   "metadata": {},
   "outputs": [
    {
     "name": "stdout",
     "output_type": "stream",
     "text": [
      "<__main__.Person object at 0x10809e940> is generated\n",
      "<__main__.Person object at 0x10809e9d0> is generated\n"
     ]
    }
   ],
   "source": [
    "# init함수 만들기\n",
    "class Person:\n",
    "    def __init__(self):\n",
    "        print(self, 'is generated')\n",
    "        \n",
    "p1 = Person()\n",
    "p2 = Person()"
   ]
  },
  {
   "cell_type": "code",
   "execution_count": 3,
   "metadata": {},
   "outputs": [
    {
     "name": "stdout",
     "output_type": "stream",
     "text": [
      "20 raekyun\n"
     ]
    }
   ],
   "source": [
    "# init함수에서 attribute 설정\n",
    "class Person:\n",
    "    def __init__(self):\n",
    "        self.age = 20\n",
    "        self.name = 'raekyun'\n",
    "\n",
    "p1 = Person()\n",
    "print(p1.age, p1.name)"
   ]
  },
  {
   "cell_type": "code",
   "execution_count": 5,
   "metadata": {},
   "outputs": [
    {
     "name": "stdout",
     "output_type": "stream",
     "text": [
      "50 Jin\n"
     ]
    }
   ],
   "source": [
    "# class를 호출하면서 동시에 init에 정의된 attribute를 바꾸고 싶을 때\n",
    "class Person:\n",
    "    def __init__(self, age, name):\n",
    "        self.age = age\n",
    "        self.name = name\n",
    "        \n",
    "p1 = Person(50, 'Jin')\n",
    "print(p1.age, p1.name)"
   ]
  },
  {
   "cell_type": "code",
   "execution_count": 7,
   "metadata": {},
   "outputs": [
    {
     "name": "stdout",
     "output_type": "stream",
     "text": [
      "20 Raekyun\n",
      "50 Jin\n"
     ]
    }
   ],
   "source": [
    "# attribute에 초기값을 주고 옵션으로 클래스를 호출할 때 attribute를 바꿀 수 있도록 하고싶을 때\n",
    "class Person:\n",
    "    def __init__(self, age=None, name=None):\n",
    "        self.age = 20\n",
    "        self.name = 'Raekyun'\n",
    "        if age is not None:\n",
    "            self.age = age\n",
    "        if name is not None:\n",
    "            self.name = name\n",
    "\n",
    "p1 = Person()\n",
    "p2 = Person(50, 'Jin')\n",
    "print(p1.age, p1.name)\n",
    "print(p2.age, p2.name)"
   ]
  }
 ],
 "metadata": {
  "kernelspec": {
   "display_name": "Python 3",
   "language": "python",
   "name": "python3"
  },
  "language_info": {
   "codemirror_mode": {
    "name": "ipython",
    "version": 3
   },
   "file_extension": ".py",
   "mimetype": "text/x-python",
   "name": "python",
   "nbconvert_exporter": "python",
   "pygments_lexer": "ipython3",
   "version": "3.8.6"
  }
 },
 "nbformat": 4,
 "nbformat_minor": 4
}
