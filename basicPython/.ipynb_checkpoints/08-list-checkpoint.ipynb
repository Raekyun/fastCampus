{
 "cells": [
  {
   "cell_type": "code",
   "execution_count": 21,
   "metadata": {},
   "outputs": [
    {
     "name": "stdout",
     "output_type": "stream",
     "text": [
      "[3, 4]\n"
     ]
    }
   ],
   "source": [
    "#slicing\n",
    "a = [1,2,3,4]\n",
    "print(a[2:])"
   ]
  },
  {
   "cell_type": "code",
   "execution_count": 20,
   "metadata": {},
   "outputs": [
    {
     "name": "stdout",
     "output_type": "stream",
     "text": [
      "[10, 1, 2, 3, 4]\n"
     ]
    }
   ],
   "source": [
    "#insert\n",
    "a = [1,2,3,4]\n",
    "a.insert(0, 10)\n",
    "print(a)"
   ]
  },
  {
   "cell_type": "code",
   "execution_count": 22,
   "metadata": {},
   "outputs": [
    {
     "name": "stdout",
     "output_type": "stream",
     "text": [
      "[1, 2, 3, 4, [4, 4, 4]]\n"
     ]
    }
   ],
   "source": [
    "#append\n",
    "a = [1,2,3,4]\n",
    "b = [4,4,4]\n",
    "a.append(b)\n",
    "print(a)\n",
    "\n",
    "\n"
   ]
  },
  {
   "cell_type": "code",
   "execution_count": 24,
   "metadata": {},
   "outputs": [
    {
     "name": "stdout",
     "output_type": "stream",
     "text": [
      "[1, 2, 3, 4, 4, 4, 4]\n",
      "[1, 2, 3, 4, 4, 4, 4]\n",
      "[1, 2, 3, 4, 4, 4, 4]\n"
     ]
    }
   ],
   "source": [
    "#extend\n",
    "a = [1,2,3,4]\n",
    "b = [4,4,4]\n",
    "a.extend(b)\n",
    "print(a)\n",
    "\n",
    "a = [1,2,3,4]\n",
    "a += b\n",
    "print(a)\n",
    "\n",
    "a = [1,2,3,4]\n",
    "print(a + b)"
   ]
  },
  {
   "cell_type": "code",
   "execution_count": 25,
   "metadata": {},
   "outputs": [
    {
     "name": "stdout",
     "output_type": "stream",
     "text": [
      "[1, 3, 4]\n"
     ]
    }
   ],
   "source": [
    "#remove\n",
    "a = [1, 2, 3, 4]\n",
    "a.remove(2)\n",
    "print(a)"
   ]
  },
  {
   "cell_type": "code",
   "execution_count": 30,
   "metadata": {},
   "outputs": [
    {
     "name": "stdout",
     "output_type": "stream",
     "text": [
      "4\n",
      "[1, 2, 3]\n",
      "1\n",
      "[2, 3]\n"
     ]
    }
   ],
   "source": [
    "#pop\n",
    "a = [1,2,3,4]\n",
    "print(a.pop())\n",
    "print(a)\n",
    "\n",
    "print(a.pop(0))\n",
    "print(a)"
   ]
  },
  {
   "cell_type": "code",
   "execution_count": 43,
   "metadata": {},
   "outputs": [
    {
     "name": "stdout",
     "output_type": "stream",
     "text": [
      "[1, 5, 9, 10, 16, 200] None\n",
      "[200, 16, 10, 9, 5, 1] None\n",
      "[9, 10, 1, 5, 16, 200] [1, 5, 9, 10, 16, 200]\n",
      "[9, 10, 1, 5, 16, 200] [200, 16, 10, 9, 5, 1]\n"
     ]
    }
   ],
   "source": [
    "#sorting list of numbers\n",
    "a = [9, 10, 1, 5, 16, 200]\n",
    "b = a.sort()\n",
    "print(a, b)\n",
    "c = a.sort(reverse=True)\n",
    "print(a,c)\n",
    "\n",
    "a = [9, 10, 1, 5, 16, 200]\n",
    "d = sorted(a)\n",
    "print(a, d)\n",
    "e = sorted(a, reverse=True)\n",
    "print(a, e)\n",
    "\n"
   ]
  },
  {
   "cell_type": "code",
   "execution_count": 67,
   "metadata": {},
   "outputs": [
    {
     "name": "stdout",
     "output_type": "stream",
     "text": [
      "['apple', 'baseball', 'cap', 'dirty sexy', 'gorani']\n",
      "['cap', 'apple', 'gorani', 'baseball', 'dirty sexy']\n",
      "['cap', 'apple', 'gorani', 'baseball', 'dirty sexy']\n"
     ]
    }
   ],
   "source": [
    "#sorting list of strings\n",
    "a = ['baseball', 'apple', 'gorani', 'cap', 'dirty sexy']\n",
    "print(sorted(a))\n",
    "print(sorted(a, key=len))\n",
    "print(sorted(a, key= lambda x:len(x)))"
   ]
  },
  {
   "cell_type": "code",
   "execution_count": 69,
   "metadata": {},
   "outputs": [
    {
     "name": "stdout",
     "output_type": "stream",
     "text": [
      "<map object at 0x10716d370>\n",
      "['5', '4', '3', '2', '1']\n"
     ]
    },
    {
     "data": {
      "text/plain": [
       "'54321'"
      ]
     },
     "execution_count": 69,
     "metadata": {},
     "output_type": "execute_result"
    }
   ],
   "source": [
    "#note pad\n",
    "a = '12345'\n",
    "\n",
    "print(map(''.join, a))\n",
    "\n",
    "a = list(a)\n",
    "a.sort(reverse=True)\n",
    "print(a)\n",
    "''.join(a)"
   ]
  }
 ],
 "metadata": {
  "kernelspec": {
   "display_name": "Python 3",
   "language": "python",
   "name": "python3"
  },
  "language_info": {
   "codemirror_mode": {
    "name": "ipython",
    "version": 3
   },
   "file_extension": ".py",
   "mimetype": "text/x-python",
   "name": "python",
   "nbconvert_exporter": "python",
   "pygments_lexer": "ipython3",
   "version": "3.8.6"
  }
 },
 "nbformat": 4,
 "nbformat_minor": 4
}
