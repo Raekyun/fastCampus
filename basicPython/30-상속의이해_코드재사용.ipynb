{
 "cells": [
  {
   "cell_type": "markdown",
   "metadata": {},
   "source": [
    "## Class Inheritance (상속)\n",
    "* 기존에 정의해둥 클래스의 기능을 그대로 물려받을 수 있다.\n",
    "* 기존 클래스에 기능 일부를 추가하거나, 변경하여 새로운 클래스를 정의한다.\n",
    "* 코드를 재사용할 수 있게 된다.\n",
    "* 상속 받고자 하는 대상인 기존 클래스는 Parent, Super, Base class라고 부른다.\n",
    "* 상속 받는 새로운 클래스는 Child, Sub, Derived class라고 부른다.\n",
    "* 의미적으로 is-a 관계를 갖는다."
   ]
  },
  {
   "cell_type": "code",
   "execution_count": 5,
   "metadata": {},
   "outputs": [
    {
     "name": "stdout",
     "output_type": "stream",
     "text": [
      "Bob은 BBQ를 먹습니다.\n",
      "Bob은 30동안 잡니다.\n",
      "Bob은 60동안 일합니다.\n",
      "rk은 Subway를 먹습니다.\n",
      "rk은 420동안 잡니다.\n",
      "rk은 600동안 일합니다.\n"
     ]
    }
   ],
   "source": [
    "#예제: Person (parent), Student (child), Employee (child) 클래스 \n",
    "#공통기능: eat, sleep, work\n",
    "class Person:\n",
    "    def __init__(self, name, age):\n",
    "        self.name = name\n",
    "        self.age = age\n",
    "        \n",
    "    def eat(self, food):\n",
    "        print(f'{self.name}은 {food}를 먹습니다.')\n",
    "        \n",
    "    def sleep(self, minute):\n",
    "        print(f'{self.name}은 {minute}동안 잡니다.')\n",
    "        \n",
    "    def work(self, minute):\n",
    "        print(f'{self.name}은 {minute}동안 일합니다.')\n",
    "\n",
    "class Student(Person):\n",
    "    def __init__(self, name, age):\n",
    "        self.name = name\n",
    "        self.age = age\n",
    "    \n",
    "class Employee(Person):\n",
    "    def __init__(self, name, age):\n",
    "        self.name = name\n",
    "        self.age = age\n",
    "\n",
    "bob = Person('Bob', 25)\n",
    "bob.eat('BBQ')\n",
    "bob.sleep(30)\n",
    "bob.work(60)\n",
    "\n",
    "rk = Student('rk', 25)\n",
    "rk.eat('Subway')\n",
    "rk.sleep(420)\n",
    "rk.work(600)"
   ]
  },
  {
   "cell_type": "markdown",
   "metadata": {},
   "source": [
    "## method override (함수 재정의)\n",
    "* 부모 클래스의 method를 자식 클래스에서 재정의 (override)\n",
    "* 자식 클래스의 인스턴스로 호출시 재정의된 method가 호출됨"
   ]
  },
  {
   "cell_type": "code",
   "execution_count": 7,
   "metadata": {},
   "outputs": [
    {
     "name": "stdout",
     "output_type": "stream",
     "text": [
      "Bob은 BBQ를 먹습니다.\n",
      "Bob은 30동안 잡니다.\n",
      "Bob은 60동안 일합니다.\n",
      "rk은 Subway를 먹습니다.\n",
      "rk은 420동안 잡니다.\n",
      "rk은 600동안 공부합니다. 학생에게는 공부가 일입니다.\n",
      "hs은 pork belly를 먹습니다.\n",
      "hs은 300동안 잡니다.\n",
      "hs은 1000동안 업무를 봅니다.\n"
     ]
    }
   ],
   "source": [
    "#예제: Person (parent)의 work method를 Student, Employee (child)에서 재정의\n",
    "class Person:\n",
    "    def __init__(self, name, age):\n",
    "        self.name = name\n",
    "        self.age = age\n",
    "        \n",
    "    def eat(self, food):\n",
    "        print(f'{self.name}은 {food}를 먹습니다.')\n",
    "        \n",
    "    def sleep(self, minute):\n",
    "        print(f'{self.name}은 {minute}동안 잡니다.')\n",
    "        \n",
    "    def work(self, minute):\n",
    "        print(f'{self.name}은 {minute}동안 일합니다.')\n",
    "\n",
    "class Student(Person):\n",
    "    def __init__(self, name, age):\n",
    "        self.name = name\n",
    "        self.age = age\n",
    "\n",
    "    def work(self, minute):\n",
    "        print(f'{self.name}은 {minute}동안 공부합니다. 학생에게는 공부가 일입니다.')\n",
    "    \n",
    "class Employee(Person):\n",
    "    def __init__(self, name, age):\n",
    "        self.name = name\n",
    "        self.age = age\n",
    "    \n",
    "    def work(self, minute):\n",
    "        print(f'{self.name}은 {minute}동안 업무를 봅니다.')\n",
    "\n",
    "bob = Person('Bob', 25)\n",
    "bob.eat('BBQ')\n",
    "bob.sleep(30)\n",
    "bob.work(60)\n",
    "\n",
    "rk = Student('rk', 25)\n",
    "rk.eat('Subway')\n",
    "rk.sleep(420)\n",
    "rk.work(600)\n",
    "\n",
    "hs = Employee('hs', 43)\n",
    "hs.eat('pork belly')\n",
    "hs.sleep(300)\n",
    "hs.work(1000)"
   ]
  },
  {
   "cell_type": "markdown",
   "metadata": {},
   "source": [
    "## super\n",
    "* 자식 클래스에서 부모클래스의 method를 호출할 때 사용\n",
    "* super().method() <= 이러면 그냥 호출 됨"
   ]
  },
  {
   "cell_type": "code",
   "execution_count": 8,
   "metadata": {},
   "outputs": [
    {
     "name": "stdout",
     "output_type": "stream",
     "text": [
      "Bob은 BBQ를 먹습니다.\n",
      "Bob은 30동안 잡니다.\n",
      "Bob은 60동안 준비를 합니다.\n",
      "rk은 Subway를 먹습니다.\n",
      "rk은 420동안 잡니다.\n",
      "rk은 600동안 준비를 합니다.\n",
      "rk은 600동안 공부합니다. 학생에게는 공부가 일입니다.\n",
      "hs은 pork belly를 먹습니다.\n",
      "hs은 300동안 잡니다.\n",
      "hs은 1000동안 준비를 합니다.\n",
      "hs은 1000동안 업무를 봅니다.\n"
     ]
    }
   ],
   "source": [
    "#예제: 자식 클래스에서 work method를 override하고 거기서 부모 클래스의 work도 같이 쓰고 싶을 때!!\n",
    "#예제: Person (parent)의 work method를 Student, Employee (child)에서 재정의\n",
    "class Person:\n",
    "    def __init__(self, name, age):\n",
    "        self.name = name\n",
    "        self.age = age\n",
    "        \n",
    "    def eat(self, food):\n",
    "        print(f'{self.name}은 {food}를 먹습니다.')\n",
    "        \n",
    "    def sleep(self, minute):\n",
    "        print(f'{self.name}은 {minute}동안 잡니다.')\n",
    "        \n",
    "    def work(self, minute):\n",
    "        print(f'{self.name}은 {minute}동안 준비를 합니다.')\n",
    "\n",
    "class Student(Person):\n",
    "    def __init__(self, name, age):\n",
    "        self.name = name\n",
    "        self.age = age\n",
    "\n",
    "    def work(self, minute):\n",
    "        super().work(minute)\n",
    "        print(f'{self.name}은 {minute}동안 공부합니다. 학생에게는 공부가 일입니다.')\n",
    "    \n",
    "class Employee(Person):\n",
    "    def __init__(self, name, age):\n",
    "        self.name = name\n",
    "        self.age = age\n",
    "    \n",
    "    def work(self, minute):\n",
    "        super().work(minute)\n",
    "        print(f'{self.name}은 {minute}동안 업무를 봅니다.')\n",
    "\n",
    "bob = Person('Bob', 25)\n",
    "bob.eat('BBQ')\n",
    "bob.sleep(30)\n",
    "bob.work(60)\n",
    "\n",
    "rk = Student('rk', 25)\n",
    "rk.eat('Subway')\n",
    "rk.sleep(420)\n",
    "rk.work(600)\n",
    "\n",
    "hs = Employee('hs', 43)\n",
    "hs.eat('pork belly')\n",
    "hs.sleep(300)\n",
    "hs.work(1000)"
   ]
  },
  {
   "cell_type": "markdown",
   "metadata": {},
   "source": [
    "## super().__init__()\n",
    "* 부모 클래스의 __init__()함수를 호출.."
   ]
  },
  {
   "cell_type": "code",
   "execution_count": 31,
   "metadata": {},
   "outputs": [
    {
     "name": "stdout",
     "output_type": "stream",
     "text": [
      "할아버지를 닮아 잘생겼네!\n",
      "아빠를 닮아 잘생겼네!\n",
      "할머니를 닮아 잘생겼네!\n"
     ]
    }
   ],
   "source": [
    "class father:\n",
    "    def __init__(self, who):\n",
    "        self.who = who\n",
    "        self.none = 1\n",
    "    \n",
    "    def handsome(self):\n",
    "        print(f'{self.who}를 닮아 잘생겼네!')\n",
    "\n",
    "class son(father):\n",
    "    def __init__(self, who):\n",
    "        super().__init__(who)   ## self.who = who, self.none = 1 모두 상속\n",
    "        \n",
    "class dau(father):\n",
    "    def __init__(self):\n",
    "        self.who = '할머니'\n",
    "    \n",
    "a = father('할아버지')\n",
    "a.handsome()\n",
    "b = son('아빠')\n",
    "b.handsome()\n",
    "c = dau()\n",
    "c.handsome()\n",
    "\n"
   ]
  }
 ],
 "metadata": {
  "kernelspec": {
   "display_name": "Python 3",
   "language": "python",
   "name": "python3"
  },
  "language_info": {
   "codemirror_mode": {
    "name": "ipython",
    "version": 3
   },
   "file_extension": ".py",
   "mimetype": "text/x-python",
   "name": "python",
   "nbconvert_exporter": "python",
   "pygments_lexer": "ipython3",
   "version": "3.8.6"
  }
 },
 "nbformat": 4,
 "nbformat_minor": 4
}
