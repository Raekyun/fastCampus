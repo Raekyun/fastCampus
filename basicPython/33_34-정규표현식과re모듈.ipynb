{
 "cells": [
  {
   "cell_type": "markdown",
   "metadata": {},
   "source": [
    "## re모듈 - search method\n",
    "* re.search(패턴, 검색대상문자열)\n",
    "  * ex) re.search(r'a', 'kakf')   # r'blabla~'는 정규표현식 문자열 그대로 반환하겠다는 뜻. escape문자는 다 무시\n",
    "* 패턴을 검색대상문자열에서 찾으면 re.Match 객체 반환\n",
    "* 패턴을 검색대상문자열에서 찾지 못하면 None 반환\n",
    "\n",
    "* 패턴 종류\n",
    "  * . (마침표) - 어떤 한개의 character와 일치 (newline (엔터) 제외)\n",
    "  * \\w - 알파벳 소문자 or 대문자 or 숫자 (= [a-zA-Z0-9])\n",
    "  * \\W - 알파벳 소문자 대문자 숫자가 아닌 것 (= [^0-9a-zA-Z])\n",
    "  * \\d - 숫자 (= [0-9])\n",
    "  * \\D - 숫자가 아닌 문자 (=[^0-9])\n",
    "  * \\s - 공백 (띄어쓰기, 탭, 엔터)\n",
    "  * \\S - 공백이 아닌 문자\n",
    "\n",
    "  * \\t \\n, \\r - tab, newline, return\n",
    "  * ^ = 시작, $ = 끝 각각 문자열의 시작과 끝을 의미\n",
    "  * \\가 붙으면 스페셜한 의미가 없어짐. 예를들어 \\.는 . 자체를 의미. \\\\는 \\를 의미\n",
    "  * 자세한 내용은 링크 참조 http://docs.python.org/3/library/re.html\n",
    "  "
   ]
  },
  {
   "cell_type": "code",
   "execution_count": 5,
   "metadata": {},
   "outputs": [
    {
     "name": "stdout",
     "output_type": "stream",
     "text": [
      "0 1 a\n",
      "0 2 a0\n",
      "0 3 a0-\n",
      "0 1 a\n",
      "0 2 a0\n",
      "0 3 a0-\n",
      "1 3 0-\n"
     ]
    },
    {
     "data": {
      "text/plain": [
       "'0-'"
      ]
     },
     "execution_count": 5,
     "metadata": {},
     "output_type": "execute_result"
    }
   ],
   "source": [
    "import re\n",
    "m = re.search(r'.', 'a0-')\n",
    "print(m.start(), m.end(), m.group())\n",
    "\n",
    "m = re.search(r'..', 'a0-')\n",
    "print(m.start(), m.end(), m.group())\n",
    "\n",
    "m = re.search(r'...', 'a0-')\n",
    "print(m.start(), m.end(), m.group())\n",
    "\n",
    "m = re.search(r'\\w', 'a0-')\n",
    "print(m.start(), m.end(), m.group())\n",
    "\n",
    "m = re.search(r'\\w\\w', 'a0-')\n",
    "print(m.start(), m.end(), m.group())\n",
    "\n",
    "m = re.search(r'\\w\\w.', 'a0-')\n",
    "print(m.start(), m.end(), m.group())\n",
    "\n",
    "m = re.search(r'\\w.$', 'a0-')\n",
    "print(m.start(), m.end(), m.group())\n",
    "\n",
    "re.search(r'\\w-', 'a0-').group()\n",
    "\n",
    "# re.search(r'^\\w-', 'a0-')\n",
    "\n",
    "\n",
    "\n"
   ]
  },
  {
   "cell_type": "code",
   "execution_count": null,
   "metadata": {},
   "outputs": [],
   "source": []
  },
  {
   "cell_type": "markdown",
   "metadata": {},
   "source": [
    "## 메타 캐릭터\n",
    "* [] (대괄호) : 문자들의 범위를 나타내기 위해 사용\n",
    "  * [] - 내부의 메타 캐릭터는 캐릭터 자체를 나타냄\n",
    "  * [abck]: a or b or c or k\n",
    "  * [abc.^]: a or b or c or . or ^\n",
    "  * [a-d]: -와 함께 사용되면 해당 문자 사이의 범위에 속하는 문자\n",
    "  * [0-9]: 모든 숫자\n",
    "  * [a-z]: 모든 소문자\n",
    "  * [A-Z]: 모든 대문자\n",
    "  * [a-zA-Z0-9]: 모든 알파벳 문자 및 숫자\n",
    "  * [^0-9]: ^가 맨 앞에 사용 되는 경우 해당 문자 패턴이 아닌 것과 매칭 (^ = not)  "
   ]
  },
  {
   "cell_type": "code",
   "execution_count": 113,
   "metadata": {},
   "outputs": [
    {
     "name": "stdout",
     "output_type": "stream",
     "text": [
      "0 3 cat\n",
      "1 6 9hihi\n",
      "0 6 09hihi\n",
      "<re.Match object; span=(0, 1), match='c'>\n"
     ]
    }
   ],
   "source": [
    "import re\n",
    "m = re.search(r'[cbm]at', 'cat')\n",
    "print(m.start(), m.end(), m.group())\n",
    "\n",
    "m = re.search(r'[0-9]hihi', '09hihi')\n",
    "print(m.start(), m.end(), m.group())\n",
    "\n",
    "m = re.search(r'[0-9][0-9]hihi', '09hihi')\n",
    "print(m.start(), m.end(), m.group())\n",
    "\n",
    "re.search(r'[nbm]at', 'cat')       # 검색 아무것도 되지 않음\n",
    "\n",
    "m = re.search(r'[^A-Z]', 'cat')\n",
    "print(m)"
   ]
  },
  {
   "cell_type": "code",
   "execution_count": 63,
   "metadata": {},
   "outputs": [
    {
     "name": "stdout",
     "output_type": "stream",
     "text": [
      "0 5 aaron\n",
      "0 5 ^aron\n"
     ]
    },
    {
     "data": {
      "text/plain": [
       "3"
      ]
     },
     "execution_count": 63,
     "metadata": {},
     "output_type": "execute_result"
    }
   ],
   "source": [
    "import re\n",
    "m = re.search(r'[abc.^]aron', 'aaron')\n",
    "print(m.start(), m.end(), m.group())\n",
    "\n",
    "m = re.search(r'[abc.^]aron', '^aron')\n",
    "print(m.start(), m.end(), m.group())\n",
    "\n",
    "re.search(r'[^abc]aron', 'aaron') # 검색 아무것도 되지 않음. ^ = not이기 때문\n",
    "3"
   ]
  },
  {
   "cell_type": "markdown",
   "metadata": {},
   "source": [
    "## 특수 문자들\n",
    "1. 다른 문자와 함께 사용되어 특수한 의미를 지님\n",
    "\n",
    "\n",
    "2. 메타 캐릭터가 캐릭터 자체를 표현하도록 할 경우 (., \\\\)\n",
    "  * \\\\., \\\\\\"
   ]
  },
  {
   "cell_type": "markdown",
   "metadata": {},
   "source": [
    "## 반복 패턴\n",
    "* 패턴 뒤에 *, +, ?는 반복검사를 의미\n",
    "  * '*' -> 0번 이상의 패턴이 발생\n",
    "  * '+' -> 1번 이상의 패턴이 발생\n",
    "  * '?' -> 0 혹은 1번의 패턴이 발생\n",
    "  \n",
    "* 반복 패턴의 경우 greedy하게 검색 -> 즉, 가능한 많은 부분의 매칭이 되도록 검색"
   ]
  },
  {
   "cell_type": "code",
   "execution_count": 91,
   "metadata": {},
   "outputs": [
    {
     "name": "stdout",
     "output_type": "stream",
     "text": [
      "0 4 aaaa\n",
      "0 4 aaaa\n",
      "0 1 a\n",
      "0 7 aaaabaa\n",
      "0 0 \n",
      "0 2 pg\n"
     ]
    }
   ],
   "source": [
    "m = re.search(r'a*', 'aaaabaa')\n",
    "print(m.start(), m.end(), m.group())\n",
    "\n",
    "m = re.search(r'a+', 'aaaabaa')\n",
    "print(m.start(), m.end(), m.group())\n",
    "\n",
    "m = re.search(r'a?', 'aaaabaa')\n",
    "print(m.start(), m.end(), m.group())\n",
    "\n",
    "m = re.search(r'[\\w]*', 'aaaabaa')\n",
    "print(m.start(), m.end(), m.group())\n",
    "\n",
    "m = re.search(r'd?', 'aaaabaa')\n",
    "print(m.start(), m.end(), m.group())\n",
    "\n",
    "\n",
    "m = re.search(r'pi*g', 'pg')\n",
    "print(m.start(), m.end(), m.group())\n",
    "\n",
    "re.search(r'pi+g', 'pg')   ## 검출 안됨 (프린트하면 에러 뜸)"
   ]
  },
  {
   "cell_type": "markdown",
   "metadata": {},
   "source": [
    "## 꺽쇄, 딸러\n",
    "* ^ 문자열의 맨 앞부터 일치하는 경우로 검색\n",
    "* $ 문자열의 맨 뒤부터 일치하는 경우로 검색"
   ]
  },
  {
   "cell_type": "code",
   "execution_count": 99,
   "metadata": {},
   "outputs": [
    {
     "name": "stdout",
     "output_type": "stream",
     "text": [
      "2 6 bana\n",
      "0 6 babana\n",
      "2 6 bana\n"
     ]
    }
   ],
   "source": [
    "m = re.search(r'b\\w+a', 'cabana')\n",
    "print(m.start(), m.end(), m.group())\n",
    "\n",
    "re.search(r'^b\\w+a', 'cabana')  ## 검출 안됨 (프린트하면 에러) => 맨앞부터 검색하기 때문\n",
    "\n",
    "m = re.search(r'^b\\w+a', 'babana')\n",
    "print(m.start(), m.end(), m.group())\n",
    "\n",
    "m = re.search(r'b\\w+a$', 'cabana')\n",
    "print(m.start(), m.end(), m.group())\n",
    "\n",
    "re.search(r'b\\w+a$', 'cabanap')  ## 검출 안됨 (프린트하면 에러) => 맨뒤부터 검색하기 때문)"
   ]
  },
  {
   "cell_type": "markdown",
   "metadata": {},
   "source": [
    "## 그루핑\n",
    "* 소괄호 ()를 사용하여 그루핑\n",
    "* 매칭 결과를 각 그룹별로 분리 가능\n",
    "* 패턴 명시 할 때, 각 그룹을 소괄호() 안에 넣어 분리하여 사용"
   ]
  },
  {
   "cell_type": "code",
   "execution_count": 122,
   "metadata": {},
   "outputs": [
    {
     "name": "stdout",
     "output_type": "stream",
     "text": [
      "rkkim encoredtech.com\n",
      "('rkkim@encoredtech.com', 'rkkim', 'encoredtech.com')\n"
     ]
    }
   ],
   "source": [
    "m = re.search(r'(\\w+)@(\\S+)', 'rkkim@encoredtech.com')\n",
    "print(m.group(1), m.group(2))\n",
    "print(m.group(0, 1, 2))"
   ]
  },
  {
   "cell_type": "markdown",
   "metadata": {},
   "source": [
    "## {} (횟수 지정 반복 패턴 찾기)\n",
    "* *, +, ? 사용하여 반복 패턴 찾기 가능하지만 횟수 제한 안됨\n",
    "* 패턴뒤에 {숫자} : 해당 숫자만큼의 반복 패턴만 찾음\n",
    "* {4} : 4번 반복\n",
    "* {3,4} : 3~4번 반복 (greedy)\n",
    "* {3,4}? : 3~4번 반복 (Non-greedy)"
   ]
  },
  {
   "cell_type": "code",
   "execution_count": 142,
   "metadata": {},
   "outputs": [
    {
     "data": {
      "text/plain": [
       "<re.Match object; span=(0, 5), match='piiig'>"
      ]
     },
     "execution_count": 142,
     "metadata": {},
     "output_type": "execute_result"
    }
   ],
   "source": [
    "re.search('pi{3,4}g', 'piiig')"
   ]
  },
  {
   "cell_type": "code",
   "execution_count": 145,
   "metadata": {},
   "outputs": [
    {
     "name": "stdout",
     "output_type": "stream",
     "text": [
      "<re.Match object; span=(0, 5), match='aaaaa'>\n",
      "<re.Match object; span=(0, 3), match='aaa'>\n"
     ]
    }
   ],
   "source": [
    "m = re.search(r'a{3,5}', 'aaaaa')\n",
    "print(m)\n",
    "n = re.search(r'a{3,5}?', 'aaaaa')\n",
    "print(n)"
   ]
  },
  {
   "cell_type": "markdown",
   "metadata": {},
   "source": [
    "## 미니멈 매칭 (Non-greedy way)\n",
    "* 기본적으로 *, +, ?를 사용하면 greedy(맥시멈 매칭)하게 동작함\n",
    "* *?, +?을 이용하여 미니멈 매칭을 구현"
   ]
  },
  {
   "cell_type": "code",
   "execution_count": 137,
   "metadata": {},
   "outputs": [
    {
     "name": "stdout",
     "output_type": "stream",
     "text": [
      "<re.Match object; span=(0, 17), match='<html>haha</html>'>\n",
      "<re.Match object; span=(0, 6), match='<html>'>\n"
     ]
    }
   ],
   "source": [
    "m = re.search(r'<.+>', '<html>haha</html>')   # greedy하게 검출하면 전체 문자열이 출력되지만 \n",
    "print(m)\n",
    "n = re.search(r'<.+?>', '<html>haha</html>')   # +?를 이용하여 미니멈 매칭으로 출력\n",
    "print(n)"
   ]
  },
  {
   "cell_type": "markdown",
   "metadata": {},
   "source": [
    "## match method\n",
    "* 아래 문법으로 사용하는 search method와 동일한 기능을 함 (첫번째 문자부터 검출하겠다는 뜻)\n",
    "* re.search(r'^blabla', 'blabla')"
   ]
  },
  {
   "cell_type": "markdown",
   "metadata": {},
   "source": [
    "## findall\n",
    "* search가 최초로 매칭되는 패턴만 반환한다면, findall은 매칭되는 모든 패턴을 반환\n",
    "* 리스트 형태로 반환"
   ]
  },
  {
   "cell_type": "code",
   "execution_count": 156,
   "metadata": {},
   "outputs": [
    {
     "data": {
      "text/plain": [
       "['test.rae-kun@gmail.com', 'test2@gmail.com']"
      ]
     },
     "execution_count": 156,
     "metadata": {},
     "output_type": "execute_result"
    }
   ],
   "source": [
    "re.findall(r'[\\w.-]+@[\\w.]+', 'test.rae-kun@gmail.com haha test2@gmail.com nice test test tessss bro')"
   ]
  },
  {
   "cell_type": "markdown",
   "metadata": {},
   "source": [
    "## sub\n",
    "* 주어진 문자열에서 일치하는 모든 패턴을 replace\n",
    "* 그 결과를 **문자열로 다시 반환함**\n",
    "* 두번째 인자는 특정 문자열이 될 수도 있고, 함수가 될 수도 있음\n",
    "* count가 0인 경우는 발견된 패턴 모두를 (default), 1 이상이면 해당 숫자만큼 치환됨"
   ]
  },
  {
   "cell_type": "code",
   "execution_count": 162,
   "metadata": {},
   "outputs": [
    {
     "name": "stdout",
     "output_type": "stream",
     "text": [
      "great haha great nice test test tessss bro\n",
      "great haha test2@gmail.com nice test test tessss bro\n"
     ]
    }
   ],
   "source": [
    "print(re.sub(r'[\\w.-]+@[\\w.]+', 'great', 'test.rae-kun@gmail.com haha test2@gmail.com nice test test tessss bro'))\n",
    "print(re.sub(r'[\\w.-]+@[\\w.]+', 'great', 'test.rae-kun@gmail.com haha test2@gmail.com nice test test tessss bro', count=1))"
   ]
  },
  {
   "cell_type": "markdown",
   "metadata": {},
   "source": [
    "## Compile\n",
    "* 동일한 정규표현식을 매번 다시 쓰기 번거로움을 해결\n",
    "* 패턴을 re.RegexObject 객체로 저장하여 사용 (변수에 할당)\n",
    "* a = re.compile(r'패턴')\n",
    "* a.search('검색대상문자열')"
   ]
  },
  {
   "cell_type": "code",
   "execution_count": 2,
   "metadata": {},
   "outputs": [
    {
     "data": {
      "text/plain": [
       "'test.rae-kun@gmail.com'"
      ]
     },
     "execution_count": 2,
     "metadata": {},
     "output_type": "execute_result"
    }
   ],
   "source": [
    "import re\n",
    "email_reg = re.compile(r'[\\w.-]+@[\\w.]+')\n",
    "email_reg.search('test.rae-kun@gmail.com haha test2@gmail.com nice test test tessss bro').group()"
   ]
  }
 ],
 "metadata": {
  "kernelspec": {
   "display_name": "Python 3",
   "language": "python",
   "name": "python3"
  },
  "language_info": {
   "codemirror_mode": {
    "name": "ipython",
    "version": 3
   },
   "file_extension": ".py",
   "mimetype": "text/x-python",
   "name": "python",
   "nbconvert_exporter": "python",
   "pygments_lexer": "ipython3",
   "version": "3.8.6"
  }
 },
 "nbformat": 4,
 "nbformat_minor": 4
}
