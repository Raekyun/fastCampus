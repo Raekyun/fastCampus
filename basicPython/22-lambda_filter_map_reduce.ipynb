{
 "cells": [
  {
   "cell_type": "markdown",
   "metadata": {},
   "source": [
    "## lambda\n",
    "* 함수를 즉석에서 정의하여 사용함 (node js에서 function() {} 이런식으로 쓰는 느낌)\n",
    "* ex) 아래 코드는 마치 \n",
    "```python \n",
    "def func(x): return x**2 와 같음\n",
    "```\n",
    "```python\n",
    "lambda x: x**2\n",
    "```"
   ]
  },
  {
   "cell_type": "code",
   "execution_count": null,
   "metadata": {},
   "outputs": [],
   "source": [
    "#lambda\n",
    "\n"
   ]
  },
  {
   "cell_type": "markdown",
   "metadata": {},
   "source": [
    "## filter\n",
    "* iterable을 받아서 filter 조건 (함수 return값이) True인 것들만 포함시켜 filter 객체를 반환함\n",
    "```python\n",
    "filter(함수, iterable)\n",
    "```\n",
    "* ex) 아래 코드는 nums 중 짝수들만 포함시킨 filter 객체가 반환됨\n",
    "```python\n",
    "nums = [1,2,3,6,8,9]\n",
    "filter(lambda x: x % 2 == 0, nums)\n",
    "```"
   ]
  },
  {
   "cell_type": "code",
   "execution_count": 4,
   "metadata": {},
   "outputs": [
    {
     "name": "stdout",
     "output_type": "stream",
     "text": [
      "<filter object at 0x1080379a0>\n",
      "[2, 6, 8]\n"
     ]
    }
   ],
   "source": [
    "nums = [1,2,3,6,8,9]\n",
    "a = filter(lambda x: x%2 == 0, nums)\n",
    "print(a)\n",
    "print(list(a))"
   ]
  },
  {
   "cell_type": "markdown",
   "metadata": {},
   "source": [
    "## map\n",
    "* 주어진 리스트의 각각의 원소가 입력받은 함수의 input으로 들어가고 함수의 반환값을 원소로 포함한 새로운 list를 포함한 map 객체를 반환\n",
    "```python\n",
    "map(함수, iterable)\n",
    "```\n",
    "* 한 번 리스트같은 형태로 반환하면 더이상 map 객체에는 반환 리스트가 포함되어있지 않음\n",
    "* ex) 아래 코드는 nums의 각각 원소를 제곱 하여 새로운 리스트를 반환\n",
    "```python\n",
    "nums [1,2,6,7]\n",
    "map(lambda x: x**2, nums)\n",
    "```"
   ]
  },
  {
   "cell_type": "code",
   "execution_count": 11,
   "metadata": {},
   "outputs": [
    {
     "name": "stdout",
     "output_type": "stream",
     "text": [
      "<map object at 0x1080377f0>\n",
      "[1, 4, 25, 49]\n",
      "[]\n",
      "<map object at 0x1080378b0>\n",
      "[False, True, False, False]\n"
     ]
    }
   ],
   "source": [
    "nums = [1,2,5,7]\n",
    "a = map(lambda x: x**2, nums)\n",
    "print(a)\n",
    "print(list(a))\n",
    "print(list(a))\n",
    "\n",
    "b = map(lambda x: x % 2 == 0, nums)\n",
    "print(b)\n",
    "print(list(b))"
   ]
  },
  {
   "cell_type": "markdown",
   "metadata": {},
   "source": [
    "## reduce\n",
    "* 주어진 iterable의 앞에서부터 순차적으로 2개의 원소를 입력받아 함수를 적용하고 1개의 원소로 합치고, 그 과정을 원소가 1개만 남을 때 까지 반복해줌\n",
    "```python\n",
    "import functools\n",
    "functools.reduce(함수, iterable)\n",
    "```"
   ]
  },
  {
   "cell_type": "code",
   "execution_count": 4,
   "metadata": {},
   "outputs": [
    {
     "name": "stdout",
     "output_type": "stream",
     "text": [
      "14\n",
      "120\n",
      "1152921504606846976\n"
     ]
    }
   ],
   "source": [
    "from functools import reduce\n",
    "nums = [2,3,4,5]\n",
    "a = reduce(lambda x,y: x+y, nums)\n",
    "print(a)\n",
    "\n",
    "b = reduce(lambda x,y: x*y, nums)\n",
    "print(b)\n",
    "\n",
    "c = reduce(lambda x,y: x**y, nums)\n",
    "print(c)"
   ]
  }
 ],
 "metadata": {
  "kernelspec": {
   "display_name": "Python 3",
   "language": "python",
   "name": "python3"
  },
  "language_info": {
   "codemirror_mode": {
    "name": "ipython",
    "version": 3
   },
   "file_extension": ".py",
   "mimetype": "text/x-python",
   "name": "python",
   "nbconvert_exporter": "python",
   "pygments_lexer": "ipython3",
   "version": "3.8.6"
  }
 },
 "nbformat": 4,
 "nbformat_minor": 4
}
