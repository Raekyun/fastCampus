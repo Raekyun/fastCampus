{
 "cells": [
  {
   "cell_type": "markdown",
   "metadata": {},
   "source": [
    "## 연습문제)\n",
    "* 복소수 클래스 정의\n",
    "* 구현조건\n",
    "  * 연산자: +, -, *, \n",
    "  * len\n",
    "  * 복소수 출력 (1 + 4j와 같은 형식)\n",
    "  * 비교연산 ==, !=, <=, >=, <, >\n",
    "  * 절대값"
   ]
  },
  {
   "cell_type": "code",
   "execution_count": 51,
   "metadata": {},
   "outputs": [
    {
     "name": "stdout",
     "output_type": "stream",
     "text": [
      "5.0990195135927845 26\n"
     ]
    }
   ],
   "source": [
    "from math import sqrt\n",
    "class Complex:\n",
    "    def __init__(self, r, i):\n",
    "        self.r = r\n",
    "        self.i = i\n",
    "    \n",
    "    def __str__(self):\n",
    "        if self.i < 0:\n",
    "            return f'{self.r} - {abs(self.i)}j' \n",
    "        else:\n",
    "            return f'{self.r} + {self.i}j'\n",
    "    \n",
    "    def __add__(self, s2):\n",
    "        new_r = self.r + s2.r\n",
    "        new_i = self.i + s2.i\n",
    "        return Complex(new_r, new_i)\n",
    "    \n",
    "    def __sub__(self, s2):\n",
    "        new_r = self.r - s2.r\n",
    "        new_i = self.i - s2.i\n",
    "        return Complex(new_r, new_i)\n",
    "    \n",
    "    def __mul__(self, s2):\n",
    "        if type(s2) == type(self):\n",
    "            new_r = self.r * s2.r - self.i * s2.i\n",
    "            new_i = self.r * s2.i + self.i * s2.r\n",
    "        elif type(s2) == int:\n",
    "            new_r = self.r * s2\n",
    "            new_i = self.i * s2\n",
    "        return Complex(new_r, new_i)\n",
    "            \n",
    "    \n",
    "    def __len__(self):\n",
    "        return self.r**2 + self.i**2\n",
    "    \n",
    "    def __eq__(self, s2):\n",
    "        return self.r == s2.r and self.i == s2.i\n",
    "        \n",
    "    def __ne__(self, s2):\n",
    "        return not (self == s2)\n",
    "\n",
    "    def __lt__(self, s2):\n",
    "        if len(self) < len(s2):\n",
    "            return True\n",
    "        else:\n",
    "            return False\n",
    "    \n",
    "    def __le__(self, s2):\n",
    "        if len(self) <= len(s2):\n",
    "            return True\n",
    "        else:\n",
    "            return False\n",
    "\n",
    "    def __gt__(self, s2):\n",
    "        if len(self) > len(s2):\n",
    "            return True\n",
    "        else:\n",
    "            return False\n",
    "        \n",
    "    def __ge__(self, s2):\n",
    "        if len(self) >= len(s2):\n",
    "            return True\n",
    "        else:\n",
    "            return False\n",
    "        \n",
    "    def __abs__(self):\n",
    "        return sqrt(self.r**2 + self.i**2)\n",
    "\n",
    "a1 = Complex(1, 5)\n",
    "a2 = Complex(2, 5)\n",
    "print(abs(a1), len(a1))"
   ]
  }
 ],
 "metadata": {
  "kernelspec": {
   "display_name": "Python 3",
   "language": "python",
   "name": "python3"
  },
  "language_info": {
   "codemirror_mode": {
    "name": "ipython",
    "version": 3
   },
   "file_extension": ".py",
   "mimetype": "text/x-python",
   "name": "python",
   "nbconvert_exporter": "python",
   "pygments_lexer": "ipython3",
   "version": "3.8.6"
  }
 },
 "nbformat": 4,
 "nbformat_minor": 4
}
