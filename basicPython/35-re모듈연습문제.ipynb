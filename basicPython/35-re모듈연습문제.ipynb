{
 "cells": [
  {
   "cell_type": "markdown",
   "metadata": {},
   "source": [
    "## 연습문제\n",
    "* 이메일 목록 중 잘못된 이메일 양식을 걸러내고 찐 이메일만 출력!!"
   ]
  },
  {
   "cell_type": "code",
   "execution_count": 19,
   "metadata": {},
   "outputs": [],
   "source": [
    "webs = ['https://www.test.co.kr',\n",
    "        'https://www.test1.com',\n",
    "        'http://www.test.com',\n",
    "        'ftp://www.test.com',\n",
    "        'http:://www.test.com'\n",
    "        'htp://www.test.com',\n",
    "        'http://www.google.com',\n",
    "        'https://www.homepage.com.']"
   ]
  },
  {
   "cell_type": "code",
   "execution_count": 22,
   "metadata": {},
   "outputs": [
    {
     "name": "stdout",
     "output_type": "stream",
     "text": [
      "['https://www.test.co.kr', 'https://www.test1.com', 'http://www.test.com', 'http://www.google.com']\n",
      "['https://www.test.co.kr', 'https://www.test1.com', 'http://www.test.com', 'http://www.google.com', 'https://www.homepage.com.']\n"
     ]
    }
   ],
   "source": [
    "import re\n",
    "\n",
    "email_reg = re.compile(r'https?://[\\w.]+\\w+$')\n",
    "a = list(filter(lambda x: email_reg.search(x), webs))\n",
    "print(a)\n",
    "\n",
    "email_true = []\n",
    "email_reg = re.compile(r'https?://www.[\\w.]+')\n",
    "for email in webs:\n",
    "    if email_reg.search(email):\n",
    "        email_true.append(email)\n",
    "\n",
    "print(email_true)\n",
    "\n",
    "re.search(r'https?://www.[\\w.]+', 'ftp://www.test.com')"
   ]
  },
  {
   "cell_type": "code",
   "execution_count": null,
   "metadata": {},
   "outputs": [],
   "source": []
  }
 ],
 "metadata": {
  "kernelspec": {
   "display_name": "Python 3",
   "language": "python",
   "name": "python3"
  },
  "language_info": {
   "codemirror_mode": {
    "name": "ipython",
    "version": 3
   },
   "file_extension": ".py",
   "mimetype": "text/x-python",
   "name": "python",
   "nbconvert_exporter": "python",
   "pygments_lexer": "ipython3",
   "version": "3.8.6"
  }
 },
 "nbformat": 4,
 "nbformat_minor": 4
}
