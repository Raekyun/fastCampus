{
 "cells": [
  {
   "cell_type": "code",
   "execution_count": 11,
   "metadata": {},
   "outputs": [
    {
     "name": "stdout",
     "output_type": "stream",
     "text": [
      "hello\n",
      " world\n",
      "hello worl\n",
      "d\n",
      "hello world\n",
      "world\n"
     ]
    }
   ],
   "source": [
    "# slicing\n",
    "string = 'hello world'\n",
    "print(string[0:5])\n",
    "print(string[5:])\n",
    "print(string[:-1])\n",
    "print(string[-1])\n",
    "print(string[:])\n",
    "print(string[-5:])"
   ]
  },
  {
   "cell_type": "code",
   "execution_count": 31,
   "metadata": {},
   "outputs": [
    {
     "name": "stdout",
     "output_type": "stream",
     "text": [
      "HELLO WORLD\n",
      "fello world\n",
      "['hello', 'world']\n",
      "['he', '', 'o wor', 'd']\n"
     ]
    }
   ],
   "source": [
    "# functions (methods)\n",
    "a = 'hello world'\n",
    "print(a.upper())\n",
    "print(a.replace('h', 'f'))\n",
    "print(a.split())\n",
    "print(a.split('l'))\n"
   ]
  },
  {
   "cell_type": "code",
   "execution_count": 21,
   "metadata": {},
   "outputs": [
    {
     "name": "stdout",
     "output_type": "stream",
     "text": [
      "today's temp is 25.5 and humid is 32.1\n",
      "today's temp is 25.5 and humid is 32.1\n",
      "today's temp is 25.5 and humid is 32.1\n"
     ]
    }
   ],
   "source": [
    "# formatting\n",
    "temp = 25.5\n",
    "humid = 32.1\n",
    "print(f\"today's temp is {temp} and humid is {humid}\")\n",
    "print(\"today's temp is {} and humid is {}\".format(temp, humid))\n",
    "print(\"today's temp is {0} and humid is {1}\".format(temp, humid))"
   ]
  },
  {
   "cell_type": "code",
   "execution_count": 1,
   "metadata": {},
   "outputs": [
    {
     "ename": "TypeError",
     "evalue": "'str' object does not support item assignment",
     "output_type": "error",
     "traceback": [
      "\u001b[0;31m---------------------------------------------------------------------------\u001b[0m",
      "\u001b[0;31mTypeError\u001b[0m                                 Traceback (most recent call last)",
      "\u001b[0;32m<ipython-input-1-684938b3d5f8>\u001b[0m in \u001b[0;36m<module>\u001b[0;34m\u001b[0m\n\u001b[1;32m      1\u001b[0m \u001b[0;31m# immutable\u001b[0m\u001b[0;34m\u001b[0m\u001b[0;34m\u001b[0m\u001b[0;34m\u001b[0m\u001b[0m\n\u001b[1;32m      2\u001b[0m \u001b[0mb\u001b[0m \u001b[0;34m=\u001b[0m \u001b[0;34m'asd'\u001b[0m\u001b[0;34m\u001b[0m\u001b[0;34m\u001b[0m\u001b[0m\n\u001b[0;32m----> 3\u001b[0;31m \u001b[0mb\u001b[0m\u001b[0;34m[\u001b[0m\u001b[0;36m1\u001b[0m\u001b[0;34m]\u001b[0m \u001b[0;34m=\u001b[0m \u001b[0;36m3\u001b[0m\u001b[0;34m\u001b[0m\u001b[0;34m\u001b[0m\u001b[0m\n\u001b[0m",
      "\u001b[0;31mTypeError\u001b[0m: 'str' object does not support item assignment"
     ]
    }
   ],
   "source": [
    "# immutable\n",
    "b = 'asd'\n",
    "b[1] = 3"
   ]
  },
  {
   "cell_type": "markdown",
   "metadata": {},
   "source": [
    "## join\n",
    "* list of strings to string\n",
    "* \"요소요소 사이에 들어갈 문자\".join(리스트)"
   ]
  },
  {
   "cell_type": "code",
   "execution_count": 4,
   "metadata": {},
   "outputs": [
    {
     "name": "stdout",
     "output_type": "stream",
     "text": [
      "102030\n",
      "10:20:30\n"
     ]
    }
   ],
   "source": [
    "#join\n",
    "a = ['10', '20', '30']\n",
    "print(\"\".join(a))\n",
    "print(\":\".join(a))"
   ]
  },
  {
   "cell_type": "code",
   "execution_count": 8,
   "metadata": {},
   "outputs": [
    {
     "name": "stdout",
     "output_type": "stream",
     "text": [
      "54321\n"
     ]
    }
   ],
   "source": [
    "a = '12345'\n",
    "b = ''\n",
    "for k in range(len(a)):\n",
    "    b += a[-(k+1)]\n",
    "    \n",
    "print(b)"
   ]
  }
 ],
 "metadata": {
  "kernelspec": {
   "display_name": "Python 3",
   "language": "python",
   "name": "python3"
  },
  "language_info": {
   "codemirror_mode": {
    "name": "ipython",
    "version": 3
   },
   "file_extension": ".py",
   "mimetype": "text/x-python",
   "name": "python",
   "nbconvert_exporter": "python",
   "pygments_lexer": "ipython3",
   "version": "3.8.6"
  }
 },
 "nbformat": 4,
 "nbformat_minor": 4
}
